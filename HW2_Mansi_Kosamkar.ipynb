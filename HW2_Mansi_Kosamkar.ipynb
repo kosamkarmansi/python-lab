{
 "cells": [
  {
   "cell_type": "markdown",
   "metadata": {},
   "source": [
    "## Exercise 1"
   ]
  },
  {
   "cell_type": "markdown",
   "metadata": {},
   "source": [
    "#### Step 1.1"
   ]
  },
  {
   "cell_type": "code",
   "execution_count": 1,
   "metadata": {},
   "outputs": [
    {
     "name": "stdout",
     "output_type": "stream",
     "text": [
      "[1, 1, 1, 1, 2, 2, 2, 2, 3, 3, 3, 3, 4, 4, 4, 4, 5, 5, 5, 5, 6, 6, 6, 6, 7, 7, 7, 7, 8, 8, 8, 8, 9, 9, 9, 9, 10, 10, 10, 10, 11, 11, 11, 11, 12, 12, 12, 12, 13, 13, 13, 13]\n"
     ]
    }
   ],
   "source": [
    "#importing random procedure to shuffle the cards\n",
    "import random\n",
    "\n",
    "import numpy as np\n",
    "\n",
    "#creating an empty list deck\n",
    "deck = []\n",
    "\n",
    "#creating the values associated with all cards in a deck\n",
    "for i in range(1,14):\n",
    "    for j in range(4):\n",
    "        deck.append(i)\n",
    "\n",
    "#printing out the deck\n",
    "print (deck)\n"
   ]
  },
  {
   "cell_type": "markdown",
   "metadata": {},
   "source": [
    "#### Step 1.2"
   ]
  },
  {
   "cell_type": "code",
   "execution_count": 2,
   "metadata": {},
   "outputs": [
    {
     "name": "stdout",
     "output_type": "stream",
     "text": [
      "Maximum total for a game = 364\n"
     ]
    }
   ],
   "source": [
    "sum = 0\n",
    "\n",
    "#getting the sum of values associated with all cards in the deck\n",
    "for card in deck:\n",
    "    sum += card\n",
    "\n",
    "#printing the sum of values associated with all cards in the deck\n",
    "print (\"Maximum total for a game = \" +str(sum))\n",
    "    "
   ]
  },
  {
   "cell_type": "markdown",
   "metadata": {},
   "source": [
    "## Exercise 2 "
   ]
  },
  {
   "cell_type": "markdown",
   "metadata": {},
   "source": [
    "#### Step 2.1"
   ]
  },
  {
   "cell_type": "code",
   "execution_count": 3,
   "metadata": {},
   "outputs": [],
   "source": [
    "#Defining the deal function\n",
    "def deal() :\n",
    "    player1 = []\n",
    "    player2 = []\n",
    "    npdeck = np.array(deck)\n",
    "    distribution = ()\n",
    "    \n",
    "    \n",
    "    while len(npdeck) > 0 :\n",
    "        \n",
    "        #function to shuffle cards\n",
    "        #taking a random card number from the deck of unshuffled cards\n",
    "        rand1 = np.random.randint(0, len(npdeck)-1)\n",
    "        #appending the random card to a player1 list to get a shuffled list of cards\n",
    "        player1.append(npdeck[rand1])\n",
    "        #deleting the card already added to any list\n",
    "        npdeck = np.delete(npdeck, rand1)\n",
    "        \n",
    "        \n",
    "        #for the last remaining card, assign it to player 2\n",
    "        if len(npdeck) == 1 :\n",
    "            player2.append(npdeck[0])\n",
    "            break\n",
    "            \n",
    "        #taking a random card number from the deck of unshuffled cards\n",
    "        rand2 = np.random.randint(0, len(npdeck)-1)\n",
    "        #appending the random card to a player1 list to get a shuffled list of cards\n",
    "        player2.append(npdeck[rand2])\n",
    "        #deleting the card already added to any list\n",
    "        npdeck = np.delete(npdeck, rand2)\n",
    "    \n",
    "    #creating the list of tuples each consisting of the hand of each player\n",
    "    distribution = (player1, player2)\n",
    "    \n",
    "    #printing the list of tuples each consisting of the hand of each player\n",
    "    print (distribution)\n",
    "    return distribution\n",
    "   "
   ]
  },
  {
   "cell_type": "code",
   "execution_count": 4,
   "metadata": {},
   "outputs": [
    {
     "name": "stdout",
     "output_type": "stream",
     "text": [
      "([4, 5, 1, 7, 2, 6, 3, 10, 9, 9, 13, 9, 4, 10, 4, 6, 8, 5, 9, 10, 11, 1, 12, 5, 13, 1], [8, 11, 3, 7, 3, 4, 11, 5, 6, 2, 6, 8, 12, 7, 2, 10, 1, 8, 3, 13, 12, 11, 2, 12, 7, 13])\n"
     ]
    }
   ],
   "source": [
    "#calling the deal function\n",
    "player_cards = deal()"
   ]
  },
  {
   "cell_type": "markdown",
   "metadata": {},
   "source": [
    "#### Step 2.2"
   ]
  },
  {
   "cell_type": "code",
   "execution_count": 5,
   "metadata": {
    "scrolled": false
   },
   "outputs": [
    {
     "name": "stdout",
     "output_type": "stream",
     "text": [
      "player1: 4 player2: 8\n",
      "Number of cards with player 1: 1\n",
      "Number of cards with player 2: 1\n",
      "Value of cards of player 1: 4 Value of cards of player 2: 8\n",
      "\n",
      "player1: 5 player2: 11\n",
      "Number of cards with player 1: 2\n",
      "Number of cards with player 2: 2\n",
      "Value of cards of player 1: 9 Value of cards of player 2: 19\n",
      "\n",
      "player1: 1 player2: 3\n",
      "Number of cards with player 1: 3\n",
      "Number of cards with player 2: 3\n",
      "Value of cards of player 1: 10 Value of cards of player 2: 22\n",
      "\n",
      "player1: 7 player2: 7\n",
      "Number of cards with player 1: 4\n",
      "Number of cards with player 2: 4\n",
      "Value of cards of player 1: 17 Value of cards of player 2: 29\n",
      "\n",
      "player1: 2 player2: 3\n",
      "Number of cards with player 1: 5\n",
      "Number of cards with player 2: 5\n",
      "Value of cards of player 1: 19 Value of cards of player 2: 32\n",
      "\n",
      "player1: 6 player2: 4\n",
      "Number of cards with player 1: 6\n",
      "Number of cards with player 2: 6\n",
      "Value of cards of player 1: 25 Value of cards of player 2: 36\n",
      "\n",
      "player1: 3 player2: 11\n",
      "Number of cards with player 1: 7\n",
      "Number of cards with player 2: 7\n",
      "Value of cards of player 1: 28 Value of cards of player 2: 47\n",
      "\n",
      "player1: 10 player2: 5\n",
      "Number of cards with player 1: 8\n",
      "Number of cards with player 2: 8\n",
      "Value of cards of player 1: 38 Value of cards of player 2: 52\n",
      "\n",
      "player1: 9 player2: 6\n",
      "Number of cards with player 1: 9\n",
      "Number of cards with player 2: 9\n",
      "Value of cards of player 1: 47 Value of cards of player 2: 58\n",
      "\n",
      "player1: 9 player2: 2\n",
      "Number of cards with player 1: 10\n",
      "Number of cards with player 2: 10\n",
      "Value of cards of player 1: 56 Value of cards of player 2: 60\n",
      "\n",
      "player1: 13 player2: 6\n",
      "Number of cards with player 1: 11\n",
      "Number of cards with player 2: 11\n",
      "Value of cards of player 1: 69 Value of cards of player 2: 66\n",
      "\n",
      "player1: 9 player2: 8\n",
      "Number of cards with player 1: 12\n",
      "Number of cards with player 2: 12\n",
      "Value of cards of player 1: 78 Value of cards of player 2: 74\n",
      "\n",
      "player1: 4 player2: 12\n",
      "Number of cards with player 1: 13\n",
      "Number of cards with player 2: 13\n",
      "Value of cards of player 1: 82 Value of cards of player 2: 86\n",
      "\n",
      "player1: 10 player2: 7\n",
      "Number of cards with player 1: 14\n",
      "Number of cards with player 2: 14\n",
      "Value of cards of player 1: 92 Value of cards of player 2: 93\n",
      "\n",
      "player1: 4 player2: 2\n",
      "Number of cards with player 1: 15\n",
      "Number of cards with player 2: 15\n",
      "Value of cards of player 1: 96 Value of cards of player 2: 95\n",
      "\n",
      "player1: 6 player2: 10\n",
      "Number of cards with player 1: 16\n",
      "Number of cards with player 2: 16\n",
      "Value of cards of player 1: 102 Value of cards of player 2: 105\n",
      "\n",
      "player1: 8 player2: 1\n",
      "Number of cards with player 1: 17\n",
      "Number of cards with player 2: 17\n",
      "Value of cards of player 1: 110 Value of cards of player 2: 106\n",
      "\n",
      "player1: 5 player2: 8\n",
      "Number of cards with player 1: 18\n",
      "Number of cards with player 2: 18\n",
      "Value of cards of player 1: 115 Value of cards of player 2: 114\n",
      "\n",
      "player1: 9 player2: 3\n",
      "Number of cards with player 1: 19\n",
      "Number of cards with player 2: 19\n",
      "Value of cards of player 1: 124 Value of cards of player 2: 117\n",
      "\n",
      "player1: 10 player2: 13\n",
      "Number of cards with player 1: 20\n",
      "Number of cards with player 2: 20\n",
      "Value of cards of player 1: 134 Value of cards of player 2: 130\n",
      "\n",
      "player1: 11 player2: 12\n",
      "Number of cards with player 1: 21\n",
      "Number of cards with player 2: 21\n",
      "Value of cards of player 1: 145 Value of cards of player 2: 142\n",
      "\n",
      "player1: 1 player2: 11\n",
      "Number of cards with player 1: 22\n",
      "Number of cards with player 2: 22\n",
      "Value of cards of player 1: 146 Value of cards of player 2: 153\n",
      "\n",
      "player1: 12 player2: 2\n",
      "Number of cards with player 1: 23\n",
      "Number of cards with player 2: 23\n",
      "Value of cards of player 1: 158 Value of cards of player 2: 155\n",
      "\n",
      "player1: 5 player2: 12\n",
      "Number of cards with player 1: 24\n",
      "Number of cards with player 2: 24\n",
      "Value of cards of player 1: 163 Value of cards of player 2: 167\n",
      "\n",
      "player1: 13 player2: 7\n",
      "Number of cards with player 1: 25\n",
      "Number of cards with player 2: 25\n",
      "Value of cards of player 1: 176 Value of cards of player 2: 174\n",
      "\n",
      "player1: 1 player2: 13\n",
      "Number of cards with player 1: 26\n",
      "Number of cards with player 2: 26\n",
      "Value of cards of player 1: 177 Value of cards of player 2: 187\n",
      "\n"
     ]
    }
   ],
   "source": [
    "#creating a list of player1 and player2 cards for the play function\n",
    "p1_list = player_cards[0]\n",
    "p2_list = player_cards[1]\n",
    "\n",
    "#creating a list of player1 and player2 cards for the getting the number of cards and value of cards for each player\n",
    "p1 = player_cards[0]\n",
    "p2 = player_cards[1]\n",
    "card_set1 = []\n",
    "card_set2 = []\n",
    "\n",
    "#we run a loop for 26 cards of each player\n",
    "while len(p1) > 0 :\n",
    "    \n",
    "    #getting the first element of the list or the top card of player1\n",
    "    p1_card = p1[0]\n",
    "    #changing the list so as to get the second element as the first\n",
    "    p1 = p1[1:]\n",
    "    #Creating a list of already accessed cards\n",
    "    card_set1.append(p1_card)\n",
    "    \n",
    "    #getting the first element of the list or the top card of player2\n",
    "    p2_card = p2[0]\n",
    "    #changing the list so as to get the second element as the first\n",
    "    p2 = p2[1:]\n",
    "    #Creating a list of already accessed cards\n",
    "    card_set2.append(p2_card)\n",
    "   \n",
    "    \n",
    "    #printing the cards at each round for each player\n",
    "    print (\"player1: \" + str(p1_card),\"player2: \" + str(p2_card))\n",
    "    \n",
    "    #converting list of cards at each hand of to numpy array\n",
    "    npcardset_1 = np.array(card_set1)\n",
    "    npcardset_2 = np.array(card_set2)\n",
    "    \n",
    "    #getting total value of the hand \n",
    "    value1 = np.sum(npcardset_1)\n",
    "    value2 = np.sum(npcardset_2)\n",
    "    \n",
    "    #printing the number and value of cards with each player\n",
    "    print(\"Number of cards with player 1: \" + str(len(card_set1)))\n",
    "    print(\"Number of cards with player 2: \" + str(len(card_set2)))\n",
    "    print (\"Value of cards of player 1: \" + str(value1), \"Value of cards of player 2: \" +str(value2) +\"\\n\")\n",
    "    \n",
    "    \n",
    "  \n",
    "    \n",
    "\n"
   ]
  },
  {
   "cell_type": "markdown",
   "metadata": {},
   "source": [
    "## Exercise 3"
   ]
  },
  {
   "cell_type": "markdown",
   "metadata": {},
   "source": [
    "#### Step 3.1"
   ]
  },
  {
   "cell_type": "markdown",
   "metadata": {},
   "source": [
    "1: Shuffle deck  \n",
    "2: Deal half deck to each player  \n",
    "3: Get top 2 cards of each player  \n",
    "4: Get the sum of the 2 cards for each player in each round  \n",
    "5: In case of a tie, continue to play till one player wins  \n",
    "6: Assign winner of the round to the one with maximum sum of 2 card values   \n",
    "7: Add the 4 cards of the most recent round to the discard pile of the winner  \n",
    "8: In case of the deck running out in the middle of a tie, return each player's respective cards for the final score.  \n",
    "9: Game terminates after a maximum of 13 rounds (occurs when there are no ties) and the deck is exhausted  \n",
    "10: The player with the highest total card points (in their discard pile) wins the game.  \n"
   ]
  },
  {
   "cell_type": "markdown",
   "metadata": {},
   "source": [
    "#### Step 3.2"
   ]
  },
  {
   "cell_type": "code",
   "execution_count": 6,
   "metadata": {},
   "outputs": [],
   "source": [
    "#define play()\n",
    "def play():\n",
    "    \n",
    "    #calling the deal fuction\n",
    "    player_cards = deal()\n",
    "    \n",
    "    p1_list = player_cards[0]\n",
    "    p2_list = player_cards[1]\n",
    "    \n",
    "    initial_total_p1 = np.sum(np.array(p1_list))\n",
    "    initial_total_p2 = np.sum(np.array(p2_list))\n",
    "    \n",
    "    #contains two current cards of the player\n",
    "    p1_c = []\n",
    "    p2_c = []\n",
    "    \n",
    "    \n",
    "    total_sum = 0\n",
    "    discard0 = discard1 = discard2 = 0\n",
    "    \n",
    "    \n",
    "    while len(p1_list) > 0 :\n",
    "        \n",
    "        #contains current hand of player1\n",
    "        p1_c = p1_list[0:2]\n",
    "        p1_list = p1_list[2:]\n",
    "        \n",
    "        \n",
    "        \n",
    "        #contains current hand of player2\n",
    "        p2_c = p2_list[0:2]\n",
    "        p2_list = p2_list[2:]\n",
    "        \n",
    "        print(\"Player1: \" +str(p1_c), \"Player2: \"+str(p2_c))\n",
    "        \n",
    "        np_p1_c = np.array(p1_c)\n",
    "        np_p2_c = np.array(p2_c)\n",
    "        \n",
    "        #calculate the sum of each hand\n",
    "        sum1 = np.sum(np_p1_c)\n",
    "        sum2 = np.sum(np_p2_c)\n",
    "        \n",
    "        print(\"Sum of Cards of Player1: \" +str(sum1), \"Sum of Cards of Player2: \" + str(sum2))\n",
    "        \n",
    "        #su of all four cards\n",
    "        total_sum = sum1 + sum2\n",
    "        \n",
    "        #tie condition\n",
    "        if sum1==sum2:\n",
    "            print(\"its a tie\")\n",
    "            discard0 += total_sum\n",
    "\n",
    "        #condition for player one win    \n",
    "        elif sum1>sum2:\n",
    "            print(\"winner is player 1\")\n",
    "            \n",
    "            #checks if there was tie in previous case and carry overs the previous hand if any\n",
    "            if discard0 != 0:\n",
    "                discard1 = discard0 + total_sum\n",
    "            else:\n",
    "                discard1 += total_sum\n",
    "                \n",
    "            \n",
    "            \n",
    "        else:\n",
    "            #condition for player one win    \n",
    "            print(\"winner is player 2\")\n",
    "            \n",
    "            #checks if there was tie in previous case and carry overs the previous hand if any\n",
    "            if discard0 != 0:\n",
    "                discard2 = discard0 + total_sum\n",
    "            else:\n",
    "                discard2 += total_sum\n",
    "         \n",
    "        #Checks if last hand has any ties \n",
    "        if len(p1_list)==0 and discard1 == discard2:\n",
    "            print(\"Its a tie\")\n",
    "            #adds to the respective discard list\n",
    "            discard1 = discard1 + p1_c[0] + p1_c[1]\n",
    "            discard2 = discard2 + p2_c[0] + p2_c[1]\n",
    "    \n",
    "    #declaring overall winner    \n",
    "    if discard1 > discard2:\n",
    "        print(\"Final winner is player 1\")\n",
    "    else:\n",
    "        print(\"Final winner is player 2\")\n",
    "    \n",
    "    #calculating card totals\n",
    "    print(\"card total for player 1: \" +str(discard1))\n",
    "    print(\"card total for player 2: \" +str(discard2))\n",
    "    \n",
    "    return(discard1,discard2,initial_total_p1,initial_total_p2)\n",
    "    \n",
    "    \n",
    "        \n",
    "        \n",
    "        \n",
    "            \n",
    "            "
   ]
  },
  {
   "cell_type": "code",
   "execution_count": 7,
   "metadata": {},
   "outputs": [
    {
     "name": "stdout",
     "output_type": "stream",
     "text": [
      "([10, 9, 1, 10, 4, 11, 3, 12, 9, 8, 8, 2, 13, 10, 6, 7, 5, 4, 11, 6, 8, 13, 13, 12, 4, 2], [8, 5, 7, 7, 12, 1, 4, 3, 2, 12, 9, 1, 5, 3, 3, 1, 10, 11, 2, 7, 9, 6, 5, 6, 11, 13])\n",
      "Player1: [10, 9] Player2: [8, 5]\n",
      "Sum of Cards of Player1: 19 Sum of Cards of Player2: 13\n",
      "winner is player 1\n",
      "Player1: [1, 10] Player2: [7, 7]\n",
      "Sum of Cards of Player1: 11 Sum of Cards of Player2: 14\n",
      "winner is player 2\n",
      "Player1: [4, 11] Player2: [12, 1]\n",
      "Sum of Cards of Player1: 15 Sum of Cards of Player2: 13\n",
      "winner is player 1\n",
      "Player1: [3, 12] Player2: [4, 3]\n",
      "Sum of Cards of Player1: 15 Sum of Cards of Player2: 7\n",
      "winner is player 1\n",
      "Player1: [9, 8] Player2: [2, 12]\n",
      "Sum of Cards of Player1: 17 Sum of Cards of Player2: 14\n",
      "winner is player 1\n",
      "Player1: [8, 2] Player2: [9, 1]\n",
      "Sum of Cards of Player1: 10 Sum of Cards of Player2: 10\n",
      "its a tie\n",
      "Player1: [13, 10] Player2: [5, 3]\n",
      "Sum of Cards of Player1: 23 Sum of Cards of Player2: 8\n",
      "winner is player 1\n",
      "Player1: [6, 7] Player2: [3, 1]\n",
      "Sum of Cards of Player1: 13 Sum of Cards of Player2: 4\n",
      "winner is player 1\n",
      "Player1: [5, 4] Player2: [10, 11]\n",
      "Sum of Cards of Player1: 9 Sum of Cards of Player2: 21\n",
      "winner is player 2\n",
      "Player1: [11, 6] Player2: [2, 7]\n",
      "Sum of Cards of Player1: 17 Sum of Cards of Player2: 9\n",
      "winner is player 1\n",
      "Player1: [8, 13] Player2: [9, 6]\n",
      "Sum of Cards of Player1: 21 Sum of Cards of Player2: 15\n",
      "winner is player 1\n",
      "Player1: [13, 12] Player2: [5, 6]\n",
      "Sum of Cards of Player1: 25 Sum of Cards of Player2: 11\n",
      "winner is player 1\n",
      "Player1: [4, 2] Player2: [11, 13]\n",
      "Sum of Cards of Player1: 6 Sum of Cards of Player2: 24\n",
      "winner is player 2\n",
      "Final winner is player 1\n",
      "card total for player 1: 56\n",
      "card total for player 2: 50\n"
     ]
    },
    {
     "data": {
      "text/plain": [
       "(56, 50, 201, 163)"
      ]
     },
     "execution_count": 7,
     "metadata": {},
     "output_type": "execute_result"
    }
   ],
   "source": [
    "play()"
   ]
  },
  {
   "cell_type": "markdown",
   "metadata": {},
   "source": [
    "## Exercise 4"
   ]
  },
  {
   "cell_type": "markdown",
   "metadata": {},
   "source": [
    "#### Step 4.1"
   ]
  },
  {
   "cell_type": "code",
   "execution_count": 8,
   "metadata": {},
   "outputs": [],
   "source": [
    "#copy of play function without print statements\n",
    "def playp():\n",
    "    player_cards = deal()\n",
    "    \n",
    "    p1_list = player_cards[0]\n",
    "    p2_list = player_cards[1]\n",
    "    \n",
    "    initial_total_p1 = np.sum(np.array(p1_list))\n",
    "    initial_total_p2 = np.sum(np.array(p2_list))\n",
    "    \n",
    "    p1_c = []\n",
    "    p2_c = []\n",
    "    \n",
    "    full_list1 = []\n",
    "    full_list2 = []\n",
    "    \n",
    "    total_sum = 0\n",
    "    discard0 = discard1 = discard2 = 0\n",
    "    \n",
    "    \n",
    "    while len(p1_list) > 0 :\n",
    "        \n",
    "        p1_c = p1_list[0:2]\n",
    "        p1_list = p1_list[2:]\n",
    "        \n",
    "        \n",
    "        \n",
    "        p2_c = p2_list[0:2]\n",
    "        p2_list = p2_list[2:]\n",
    "        \n",
    "       # print(\"Player1: \" +str(p1_c), \"Player2: \"+str(p2_c))\n",
    "        \n",
    "        np_p1_c = np.array(p1_c)\n",
    "        np_p2_c = np.array(p2_c)\n",
    "        \n",
    "        sum1 = np.sum(np_p1_c)\n",
    "        sum2 = np.sum(np_p2_c)\n",
    "        \n",
    "       # print(\"Sum of Cards of Player1: \" +str(sum1), \"Sum of Cards of Player2: \" + str(sum2))\n",
    "        \n",
    "        total_sum = sum1 + sum2\n",
    "        \n",
    "        if sum1==sum2:\n",
    "           # print(\"its a tie\")\n",
    "            discard0 += total_sum\n",
    "\n",
    "            \n",
    "        elif sum1>sum2:\n",
    "           # print(\"winner is player 1\")\n",
    "            \n",
    "            \n",
    "            if discard0 != 0:\n",
    "                discard1 = discard0 + total_sum\n",
    "            else:\n",
    "                discard1 += total_sum\n",
    "                \n",
    "            \n",
    "            \n",
    "        else:\n",
    "          #  print(\"winner is player 2\")\n",
    "            \n",
    "            \n",
    "            if discard0 != 0:\n",
    "                discard2 = discard0 + total_sum\n",
    "            else:\n",
    "                discard2 += total_sum\n",
    "                \n",
    "        if len(p1_list)==0 and discard1 == discard2:\n",
    "          #  print(\"Its a tie\")\n",
    "            discard1 = discard1 + p1_c[0] + p1_c[1]\n",
    "            discard2 = discard2 + p2_c[0] + p2_c[1]\n",
    "    \n",
    "        \n",
    "   # if discard1 > discard2:\n",
    "       # print(\"Final winner is player 1\")\n",
    "  #  else:\n",
    "      #  print(\"Final winner is player 2\")\n",
    "        \n",
    "  #  print(\"card total for player 1: \" +str(discard1))\n",
    "  #  print(\"card total for player 2: \" +str(discard2))\n",
    "    \n",
    "    return(discard1,discard2,initial_total_p1,initial_total_p2)\n"
   ]
  },
  {
   "cell_type": "code",
   "execution_count": 9,
   "metadata": {},
   "outputs": [
    {
     "name": "stdout",
     "output_type": "stream",
     "text": [
      "([1, 3, 4, 11, 13, 6, 6, 12, 5, 7, 11, 4, 1, 4, 5, 11, 8, 6, 2, 3, 1, 2, 9, 9, 11, 13], [7, 12, 8, 12, 13, 3, 9, 8, 2, 10, 5, 10, 5, 10, 2, 10, 12, 9, 3, 6, 8, 7, 1, 4, 7, 13])\n",
      "98 72 168 196\n",
      "([6, 7, 1, 7, 13, 11, 6, 4, 11, 3, 13, 4, 1, 5, 3, 2, 5, 9, 9, 12, 7, 2, 13, 2, 12, 2], [1, 4, 1, 6, 8, 12, 8, 11, 3, 6, 5, 7, 12, 9, 8, 9, 10, 11, 5, 4, 3, 10, 8, 10, 10, 13])\n",
      "159 205 170 194\n",
      "([13, 11, 13, 8, 10, 4, 6, 9, 8, 3, 6, 5, 4, 12, 7, 1, 8, 12, 11, 9, 12, 3, 7, 11, 3, 3], [4, 1, 9, 2, 2, 1, 10, 2, 12, 6, 4, 5, 5, 10, 1, 5, 8, 11, 10, 7, 7, 2, 6, 13, 9, 13])\n",
      "270 94 199 165\n",
      "([7, 8, 3, 10, 7, 13, 4, 1, 9, 12, 8, 2, 8, 6, 3, 5, 12, 10, 11, 6, 5, 6, 9, 7, 4, 10], [1, 8, 5, 4, 6, 13, 9, 3, 11, 12, 11, 2, 3, 2, 5, 7, 11, 4, 10, 9, 2, 1, 13, 1, 12, 13])\n",
      "185 179 186 178\n",
      "([12, 5, 9, 8, 7, 7, 12, 2, 1, 13, 11, 6, 7, 9, 10, 8, 4, 9, 13, 1, 2, 3, 11, 4, 12, 10], [2, 4, 12, 5, 10, 9, 4, 3, 13, 7, 1, 6, 3, 6, 11, 8, 8, 10, 1, 2, 11, 6, 5, 5, 3, 13])\n",
      "72 56 196 168\n",
      "([2, 9, 12, 11, 8, 7, 7, 3, 4, 10, 6, 11, 4, 6, 8, 10, 2, 3, 12, 5, 8, 11, 6, 4, 3, 1], [1, 5, 3, 9, 1, 1, 5, 9, 8, 13, 12, 9, 7, 7, 10, 5, 10, 13, 2, 11, 12, 6, 4, 2, 13, 13])\n",
      "185 179 173 191\n",
      "([4, 11, 7, 8, 11, 4, 13, 12, 5, 11, 8, 10, 9, 2, 7, 4, 12, 11, 1, 9, 7, 1, 10, 12, 5, 3], [3, 2, 6, 5, 9, 8, 1, 4, 10, 6, 10, 12, 3, 2, 6, 13, 8, 13, 1, 5, 6, 2, 9, 3, 7, 13])\n",
      "82 76 197 167\n",
      "([8, 10, 11, 13, 13, 4, 6, 11, 1, 7, 9, 2, 3, 2, 8, 9, 11, 3, 2, 3, 5, 4, 12, 6, 10, 8], [1, 9, 10, 7, 13, 4, 5, 6, 5, 1, 12, 3, 4, 10, 8, 7, 6, 12, 12, 2, 11, 5, 7, 9, 1, 13])\n",
      "66 59 181 183\n",
      "([5, 11, 7, 7, 3, 8, 6, 5, 9, 4, 5, 11, 1, 2, 7, 6, 6, 8, 3, 8, 9, 3, 8, 12, 6, 12], [4, 1, 12, 2, 10, 10, 10, 12, 5, 13, 2, 2, 4, 13, 10, 3, 9, 13, 9, 4, 11, 7, 1, 11, 1, 13])\n",
      "86 84 172 192\n",
      "([9, 12, 10, 1, 3, 8, 10, 2, 6, 10, 11, 7, 2, 11, 8, 6, 4, 5, 4, 3, 12, 3, 9, 1, 13, 11], [6, 5, 12, 6, 4, 9, 7, 3, 5, 5, 2, 4, 9, 7, 12, 13, 10, 11, 8, 7, 13, 8, 2, 1, 1, 13])\n",
      "155 209 181 183\n",
      "([9, 3, 9, 2, 1, 1, 10, 1, 11, 4, 10, 3, 11, 6, 5, 11, 12, 13, 12, 4, 8, 8, 10, 13, 2, 7], [12, 4, 5, 5, 6, 2, 12, 3, 6, 13, 9, 7, 3, 9, 2, 7, 5, 1, 7, 6, 10, 8, 11, 8, 4, 13])\n",
      "177 187 186 178\n",
      "([1, 3, 9, 11, 7, 6, 12, 4, 13, 3, 8, 8, 1, 2, 2, 3, 10, 12, 13, 7, 4, 6, 12, 2, 11, 8], [13, 8, 5, 10, 12, 2, 7, 3, 1, 11, 4, 9, 5, 6, 5, 9, 4, 9, 10, 7, 10, 1, 6, 5, 11, 13])\n",
      "215 149 178 186\n",
      "([1, 4, 1, 13, 11, 8, 10, 9, 11, 4, 13, 12, 1, 13, 11, 7, 8, 10, 2, 10, 12, 9, 6, 5, 4, 8], [5, 11, 5, 12, 6, 2, 9, 4, 3, 7, 1, 12, 8, 10, 2, 9, 3, 5, 7, 2, 6, 3, 7, 6, 3, 13])\n",
      "228 136 203 161\n",
      "([10, 12, 2, 13, 9, 3, 13, 1, 11, 4, 7, 7, 5, 8, 9, 5, 7, 1, 8, 9, 13, 10, 11, 2, 1, 6], [5, 6, 11, 7, 4, 6, 8, 1, 4, 4, 2, 3, 12, 6, 8, 5, 9, 3, 3, 12, 12, 11, 10, 2, 10, 13])\n",
      "71 76 187 177\n",
      "([13, 7, 5, 10, 2, 6, 7, 8, 2, 12, 5, 13, 4, 6, 8, 8, 11, 9, 12, 3, 10, 4, 5, 11, 4, 1], [2, 2, 10, 3, 6, 13, 4, 12, 3, 7, 5, 1, 11, 12, 8, 6, 1, 9, 10, 7, 1, 9, 9, 11, 3, 13])\n",
      "184 180 186 178\n",
      "([6, 9, 10, 8, 12, 2, 6, 11, 2, 3, 6, 1, 13, 3, 9, 3, 13, 9, 9, 8, 1, 7, 5, 11, 6, 4], [4, 1, 5, 12, 7, 12, 2, 5, 5, 7, 3, 8, 2, 1, 8, 10, 13, 10, 4, 10, 12, 4, 7, 11, 11, 13])\n",
      "129 235 177 187\n",
      "([13, 5, 12, 7, 2, 3, 9, 12, 1, 2, 2, 10, 9, 1, 7, 5, 8, 11, 6, 13, 4, 7, 8, 11, 6, 4], [4, 10, 4, 9, 13, 1, 12, 3, 3, 11, 8, 11, 3, 8, 6, 2, 7, 12, 6, 5, 5, 9, 10, 1, 10, 13])\n",
      "68 71 178 186\n",
      "([3, 8, 4, 12, 11, 13, 4, 8, 2, 5, 4, 12, 3, 7, 11, 2, 9, 9, 6, 10, 10, 6, 1, 11, 5, 7], [12, 5, 4, 12, 9, 9, 3, 8, 2, 13, 2, 10, 6, 5, 6, 13, 11, 7, 1, 3, 8, 1, 1, 7, 10, 13])\n",
      "88 103 183 181\n",
      "([7, 12, 9, 10, 12, 8, 2, 11, 9, 6, 13, 9, 4, 7, 11, 2, 6, 1, 5, 13, 4, 13, 4, 5, 3, 7], [2, 3, 7, 6, 6, 11, 3, 5, 10, 10, 12, 10, 11, 4, 1, 8, 12, 8, 5, 3, 1, 2, 8, 9, 1, 13])\n",
      "64 68 193 171\n",
      "([5, 4, 9, 1, 4, 7, 4, 9, 7, 13, 8, 10, 12, 2, 13, 3, 10, 6, 10, 13, 2, 1, 5, 5, 11, 5], [7, 1, 11, 7, 8, 8, 11, 6, 9, 2, 11, 1, 3, 12, 12, 3, 4, 6, 12, 3, 6, 8, 10, 2, 9, 13])\n",
      "173 191 179 185\n",
      "Minimum: 56\n",
      "Maximum: 270\n",
      "Mean: 134.1\n"
     ]
    }
   ],
   "source": [
    "result = []\n",
    "winner = []\n",
    "loser = []\n",
    "\n",
    "count1 = count2 = 0\n",
    "\n",
    "#for n =20\n",
    "for z in range(20):\n",
    "    #get the final and initial sums for player 1 and player 2 in result\n",
    "    f1,f2,i1,i2 = playp()\n",
    "    print (f1,f2,i1,i2) \n",
    "    result.append(f1)\n",
    "    result.append(f2)\n",
    "    if f1>f2:\n",
    "        winner.append(f1)\n",
    "        loser.append(f2)\n",
    "    elif f1<=f2:\n",
    "        winner.append(f2)\n",
    "        loser.append(f1)\n",
    "        \n",
    "    if i1<i2 and f1<f2:\n",
    "        count1 += 1\n",
    "    if i1>i2 and f1<f2:\n",
    "        count2 += 1\n",
    "        \n",
    "\n",
    "    \n",
    "        \n",
    "    \n",
    "        \n",
    "\n",
    "npresult = np.array(result)\n",
    "print(\"Minimum: \" +str(min(npresult)))\n",
    "print(\"Maximum: \" +str(max(npresult)))\n",
    "print(\"Mean: \" +str(np.mean(npresult)))\n",
    "    \n",
    "    "
   ]
  },
  {
   "cell_type": "markdown",
   "metadata": {},
   "source": [
    "#### Step 4.2"
   ]
  },
  {
   "cell_type": "code",
   "execution_count": 12,
   "metadata": {},
   "outputs": [
    {
     "name": "stdout",
     "output_type": "stream",
     "text": [
      "25.0 20.0\n"
     ]
    }
   ],
   "source": [
    "#when initial count for player 1 is lower than initial count for player 2, however, player 1 still wins in ((count1/20)*100)% cases\n",
    "proportion1 = (count1/20)*100\n",
    "#when initial count for player 2 is lower than initial count for player 1, however, player 2 still wins in ((count2/20)*100)% cases\n",
    "proportion2 = (count2/20)*100\n",
    "print(proportion1,proportion2)"
   ]
  },
  {
   "cell_type": "markdown",
   "metadata": {},
   "source": [
    "#### Step 4.3"
   ]
  },
  {
   "cell_type": "code",
   "execution_count": 13,
   "metadata": {},
   "outputs": [
    {
     "data": {
      "text/plain": [
       "array([[ 1.        , -0.21243772],\n",
       "       [-0.21243772,  1.        ]])"
      ]
     },
     "execution_count": 13,
     "metadata": {},
     "output_type": "execute_result"
    }
   ],
   "source": [
    "wins = np.array(p1_list)\n",
    "losses = np.array(p2_list)\n",
    "\n",
    "np.corrcoef(wins,losses)"
   ]
  },
  {
   "cell_type": "code",
   "execution_count": null,
   "metadata": {},
   "outputs": [],
   "source": []
  },
  {
   "cell_type": "code",
   "execution_count": null,
   "metadata": {},
   "outputs": [],
   "source": []
  },
  {
   "cell_type": "code",
   "execution_count": null,
   "metadata": {},
   "outputs": [],
   "source": []
  },
  {
   "cell_type": "code",
   "execution_count": null,
   "metadata": {},
   "outputs": [],
   "source": []
  },
  {
   "cell_type": "code",
   "execution_count": null,
   "metadata": {},
   "outputs": [],
   "source": []
  }
 ],
 "metadata": {
  "kernelspec": {
   "display_name": "Python 3",
   "language": "python",
   "name": "python3"
  },
  "language_info": {
   "codemirror_mode": {
    "name": "ipython",
    "version": 3
   },
   "file_extension": ".py",
   "mimetype": "text/x-python",
   "name": "python",
   "nbconvert_exporter": "python",
   "pygments_lexer": "ipython3",
   "version": "3.7.3"
  }
 },
 "nbformat": 4,
 "nbformat_minor": 2
}

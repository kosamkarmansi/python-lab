{
 "cells": [
  {
   "cell_type": "markdown",
   "metadata": {},
   "source": [
    "## Exercise 1"
   ]
  },
  {
   "cell_type": "markdown",
   "metadata": {},
   "source": [
    "#### Step 1.1"
   ]
  },
  {
   "cell_type": "code",
   "execution_count": 23,
   "metadata": {
    "scrolled": true
   },
   "outputs": [],
   "source": [
    "import string\n",
    "\n",
    "#defining function alpha_shift\n",
    "def shift_alpha(A, shift = 0):\n",
    "    cipher = \"\"\n",
    "    \n",
    "    #declaring dictionary text{}\n",
    "    text = {}\n",
    "\n",
    "    #encryption function\n",
    "    for i in A:\n",
    "\n",
    "        result = ord(i) + shift\n",
    "        \n",
    "        #Range check for uppercase input string\n",
    "        if result > ord('Z'):     \n",
    "            result -= 65\n",
    "            result = result % 26\n",
    "            result = result + 65\n",
    "            letter = chr(result)\n",
    "            cipher = cipher+letter\n",
    "        elif result < ord('A'):\n",
    "            result += 26\n",
    "            letter = chr(result)\n",
    "            cipher = cipher+letter\n",
    "        else:\n",
    "            letter=chr(result)\n",
    "            cipher=cipher+letter\n",
    "            \n",
    "    #codeblock for encryption-decryption dictionary\n",
    "    for i in string.ascii_uppercase:\n",
    "      \n",
    "        #encrytion for uppercase alphabets \n",
    "        o=ord(i)+shift\n",
    "        \n",
    "        #Range check for uppercase alphabets\n",
    "        if o > ord('Z'):\n",
    "            o -= 65\n",
    "            o = o % 26\n",
    "            o = o + 65\n",
    "            \n",
    "        elif o < ord('A'):\n",
    "            o += 26\n",
    "            \n",
    "         \n",
    "        x=chr(o)\n",
    "        \n",
    "        #updating dictionary\n",
    "        text.update({i:x})\n",
    "        \n",
    "            \n",
    "    print(text)\n",
    "    print(cipher)\n"
   ]
  },
  {
   "cell_type": "markdown",
   "metadata": {},
   "source": [
    "#### Step 1.2"
   ]
  },
  {
   "cell_type": "code",
   "execution_count": 25,
   "metadata": {},
   "outputs": [
    {
     "name": "stdout",
     "output_type": "stream",
     "text": [
      "{'A': 'A', 'B': 'B', 'C': 'C', 'D': 'D', 'E': 'E', 'F': 'F', 'G': 'G', 'H': 'H', 'I': 'I', 'J': 'J', 'K': 'K', 'L': 'L', 'M': 'M', 'N': 'N', 'O': 'O', 'P': 'P', 'Q': 'Q', 'R': 'R', 'S': 'S', 'T': 'T', 'U': 'U', 'V': 'V', 'W': 'W', 'X': 'X', 'Y': 'Y', 'Z': 'Z'}\n",
      "ABCDEFGHIJKLMNOPQRSTUVWXYZ\n"
     ]
    }
   ],
   "source": [
    "#Calling shift_alpha()\n",
    "shift_alpha(\"ABCDEFGHIJKLMNOPQRSTUVWXYZ\", 0)"
   ]
  },
  {
   "cell_type": "markdown",
   "metadata": {},
   "source": [
    "#### Step 1.3"
   ]
  },
  {
   "cell_type": "code",
   "execution_count": 26,
   "metadata": {},
   "outputs": [
    {
     "name": "stdout",
     "output_type": "stream",
     "text": [
      "{'A': 'P', 'B': 'Q', 'C': 'R', 'D': 'S', 'E': 'T', 'F': 'U', 'G': 'V', 'H': 'W', 'I': 'X', 'J': 'Y', 'K': 'Z', 'L': 'A', 'M': 'B', 'N': 'C', 'O': 'D', 'P': 'E', 'Q': 'F', 'R': 'G', 'S': 'H', 'T': 'I', 'U': 'J', 'V': 'K', 'W': 'L', 'X': 'M', 'Y': 'N', 'Z': 'O'}\n",
      "PQRSTUVWXYZABCDEFGHIJKLMNO\n"
     ]
    }
   ],
   "source": [
    "#Calling shift_alpha()\n",
    "shift_alpha(\"ABCDEFGHIJKLMNOPQRSTUVWXYZ\", -11)"
   ]
  },
  {
   "cell_type": "markdown",
   "metadata": {},
   "source": [
    "#### Step 1.4"
   ]
  },
  {
   "cell_type": "code",
   "execution_count": 27,
   "metadata": {
    "scrolled": true
   },
   "outputs": [
    {
     "name": "stdout",
     "output_type": "stream",
     "text": [
      "{'A': 'H', 'B': 'I', 'C': 'J', 'D': 'K', 'E': 'L', 'F': 'M', 'G': 'N', 'H': 'O', 'I': 'P', 'J': 'Q', 'K': 'R', 'L': 'S', 'M': 'T', 'N': 'U', 'O': 'V', 'P': 'W', 'Q': 'X', 'R': 'Y', 'S': 'Z', 'T': 'A', 'U': 'B', 'V': 'C', 'W': 'D', 'X': 'E', 'Y': 'F', 'Z': 'G'}\n",
      "HIJKLMNOPQRSTUVWXYZABCDEFG\n"
     ]
    }
   ],
   "source": [
    "#Calling shift_alpha()\n",
    "shift_alpha(\"ABCDEFGHIJKLMNOPQRSTUVWXYZ\", 7)"
   ]
  },
  {
   "cell_type": "markdown",
   "metadata": {},
   "source": [
    "## Exercise 2"
   ]
  },
  {
   "cell_type": "markdown",
   "metadata": {},
   "source": [
    "#### Step 2.1"
   ]
  },
  {
   "cell_type": "code",
   "execution_count": null,
   "metadata": {},
   "outputs": [],
   "source": [
    "import string\n",
    "\n",
    "#defining function encrypt\n",
    "def encrypt(word, shift = 0):\n",
    "    cipher = \"\"\n",
    "    \n",
    "    #codeblock for encrypting lowercase alphabets\n",
    "    for i in word:\n",
    "        if i in string.ascii_lowercase:\n",
    "            \n",
    "            result = ord(i) + shift\n",
    "            #range check for lowercase alphabets\n",
    "            if result > ord('z'):\n",
    "                result -= 97\n",
    "                result = result % 26\n",
    "                result = result + 97\n",
    "                letter = chr(result)\n",
    "                cipher += letter\n",
    "            elif result < ord('a'):\n",
    "                result += 26\n",
    "                letter = chr(result)\n",
    "                cipher += letter\n",
    "                \n",
    "            else:\n",
    "                letter = chr(result)\n",
    "                cipher += letter\n",
    "        \n",
    "        #codeblock for encrypting uppercase alphabets\n",
    "        elif i in string.ascii_uppercase:\n",
    "            result = ord(i) + shift\n",
    "            \n",
    "            #range check for uppercase alphabets\n",
    "            if result > ord('Z'):\n",
    "                result -= 65\n",
    "                result = result % 26\n",
    "                result = result + 65\n",
    "                letter = chr(result)\n",
    "                cipher += letter\n",
    "            elif result < ord('A'):\n",
    "                result += 26\n",
    "                letter = chr(result)\n",
    "                cipher += letter\n",
    "            else:\n",
    "                letter = chr(result)\n",
    "                cipher += letter\n",
    "                \n",
    "        #encrytion code for special characters\n",
    "        else:\n",
    "            cipher += i\n",
    "       \n",
    "                \n",
    "    return cipher \n",
    "                "
   ]
  },
  {
   "cell_type": "markdown",
   "metadata": {},
   "source": [
    "#### Step 2.2"
   ]
  },
  {
   "cell_type": "code",
   "execution_count": 6,
   "metadata": {
    "scrolled": true
   },
   "outputs": [
    {
     "name": "stdout",
     "output_type": "stream",
     "text": [
      "Enter String Ms. DaHLin :-)\n",
      "Enter shift value -2\n",
      "Kq. ByFJgl :-)\n"
     ]
    }
   ],
   "source": [
    "#Taking input \n",
    "word = input(\"Enter String \")\n",
    "sshift = input(\"Enter shift value \")\n",
    "shift = int(sshift)\n",
    "\n",
    "#Calling the encrypt function\n",
    "print (encrypt(word, shift))"
   ]
  },
  {
   "cell_type": "markdown",
   "metadata": {},
   "source": [
    "#### Step 2.3"
   ]
  },
  {
   "cell_type": "code",
   "execution_count": 7,
   "metadata": {},
   "outputs": [
    {
     "name": "stdout",
     "output_type": "stream",
     "text": [
      "Enter shift value 5\n",
      "Gnqqnj Jnqnxm\n",
      "Rfwdqfsi\n",
      "Wtzyj 1\n",
      "QfYjC\n",
      "ybjsyd-knwxy hjsyzwd\n"
     ]
    }
   ],
   "source": [
    "#Taking input \n",
    "word = ['Billie Eilish', 'Maryland', 'Route 1', 'LaTeX', 'twenty-first century']\n",
    "sshift = input(\"Enter shift value \")\n",
    "shift = int(sshift)\n",
    "\n",
    "#Calling the encrypt function\n",
    "for w in word:\n",
    "    print (encrypt(w, shift))"
   ]
  },
  {
   "cell_type": "markdown",
   "metadata": {},
   "source": [
    "## Exercise 3"
   ]
  },
  {
   "cell_type": "markdown",
   "metadata": {},
   "source": [
    "#### Step 3.1"
   ]
  },
  {
   "cell_type": "code",
   "execution_count": 8,
   "metadata": {},
   "outputs": [],
   "source": [
    "import string\n",
    "\n",
    "#defining the decrypt function\n",
    "def decrypt(word, shift):\n",
    "    return encrypt(word, shift)"
   ]
  },
  {
   "cell_type": "markdown",
   "metadata": {},
   "source": [
    "###### Example"
   ]
  },
  {
   "cell_type": "code",
   "execution_count": 9,
   "metadata": {
    "scrolled": true
   },
   "outputs": [
    {
     "name": "stdout",
     "output_type": "stream",
     "text": [
      "Enter String G jmtc Kq. Byfjgl'q ajyqq.\n",
      "13 T wzgp Xd. Olswty'd nwldd.\n",
      "12 S vyfo Wc. Nkrvsx'c mvkcc.\n",
      "11 R uxen Vb. Mjqurw'b lujbb.\n",
      "10 Q twdm Ua. Liptqv'a ktiaa.\n",
      "9 P svcl Tz. Khospu'z jshzz.\n",
      "8 O rubk Sy. Jgnrot'y irgyy.\n",
      "7 N qtaj Rx. Ifmqns'x hqfxx.\n",
      "6 M pszi Qw. Helpmr'w gpeww.\n",
      "5 L oryh Pv. Gdkolq'v fodvv.\n",
      "4 K nqxg Ou. Fcjnkp'u encuu.\n",
      "3 J mpwf Nt. Ebimjo't dmbtt.\n",
      "2 I love Ms. Dahlin's class.\n",
      "1 H knud Lr. Czgkhm'r bkzrr.\n",
      "0 G jmtc Kq. Byfjgl'q ajyqq.\n",
      "-1 F ilsb Jp. Axeifk'p zixpp.\n",
      "-2 E hkra Io. Zwdhej'o yhwoo.\n",
      "-3 D gjqz Hn. Yvcgdi'n xgvnn.\n",
      "-4 C fipy Gm. Xubfch'm wfumm.\n",
      "-5 B ehox Fl. Wtaebg'l vetll.\n",
      "-6 A dgnw Ek. Vszdaf'k udskk.\n",
      "-7 Z cfmv Dj. Urycze'j tcrjj.\n",
      "-8 Y belu Ci. Tqxbyd'i sbqii.\n",
      "-9 X adkt Bh. Spwaxc'h raphh.\n",
      "-10 W zcjs Ag. Rovzwb'g qzogg.\n",
      "-11 V ybir Zf. Qnuyva'f pynff.\n",
      "-12 U xahq Ye. Pmtxuz'e oxmee.\n"
     ]
    }
   ],
   "source": [
    "#Taking input \n",
    "word = input(\"Enter String \")\n",
    "\n",
    "#defining the range for the shift function\n",
    "for i in range(-13,13):\n",
    "    shift = -i \n",
    "    \n",
    "    #calling the decrypt function\n",
    "    print (shift,(decrypt(word, shift)))"
   ]
  },
  {
   "cell_type": "markdown",
   "metadata": {},
   "source": [
    "##### The shift that produced the decrypted message is 2"
   ]
  },
  {
   "cell_type": "markdown",
   "metadata": {},
   "source": [
    "#### Step 3.2(a)"
   ]
  },
  {
   "cell_type": "code",
   "execution_count": 10,
   "metadata": {
    "scrolled": true
   },
   "outputs": [
    {
     "name": "stdout",
     "output_type": "stream",
     "text": [
      "Enter String Swcnkva ku pqv cp cev, kv ku c jcdkv.\n",
      "13 Fjpaxin xh cdi pc pri, xi xh p wpqxi.\n",
      "12 Eiozwhm wg bch ob oqh, wh wg o vopwh.\n",
      "11 Dhnyvgl vf abg na npg, vg vf n unovg.\n",
      "10 Cgmxufk ue zaf mz mof, uf ue m tmnuf.\n",
      "9 Bflwtej td yze ly lne, te td l slmte.\n",
      "8 Aekvsdi sc xyd kx kmd, sd sc k rklsd.\n",
      "7 Zdjurch rb wxc jw jlc, rc rb j qjkrc.\n",
      "6 Ycitqbg qa vwb iv ikb, qb qa i pijqb.\n",
      "5 Xbhspaf pz uva hu hja, pa pz h ohipa.\n",
      "4 Wagroze oy tuz gt giz, oz oy g nghoz.\n",
      "3 Vzfqnyd nx sty fs fhy, ny nx f mfgny.\n",
      "2 Uyepmxc mw rsx er egx, mx mw e lefmx.\n",
      "1 Txdolwb lv qrw dq dfw, lw lv d kdelw.\n",
      "0 Swcnkva ku pqv cp cev, kv ku c jcdkv.\n",
      "-1 Rvbmjuz jt opu bo bdu, ju jt b ibcju.\n",
      "-2 Quality is not an act, it is a habit.\n",
      "-3 Ptzkhsx hr mns zm zbs, hs hr z gzahs.\n",
      "-4 Osyjgrw gq lmr yl yar, gr gq y fyzgr.\n",
      "-5 Nrxifqv fp klq xk xzq, fq fp x exyfq.\n",
      "-6 Mqwhepu eo jkp wj wyp, ep eo w dwxep.\n",
      "-7 Lpvgdot dn ijo vi vxo, do dn v cvwdo.\n",
      "-8 Koufcns cm hin uh uwn, cn cm u buvcn.\n",
      "-9 Jntebmr bl ghm tg tvm, bm bl t atubm.\n",
      "-10 Imsdalq ak fgl sf sul, al ak s zstal.\n",
      "-11 Hlrczkp zj efk re rtk, zk zj r yrszk.\n",
      "-12 Gkqbyjo yi dej qd qsj, yj yi q xqryj.\n"
     ]
    }
   ],
   "source": [
    "#Taking input \n",
    "word = input(\"Enter String \")\n",
    "\n",
    "#defining the range for the shift function\n",
    "for i in range(-13,13):\n",
    "    shift = -i \n",
    "    \n",
    "    #calling the decrypt function\n",
    "    print (shift,(decrypt(word, shift)))\n",
    "    "
   ]
  },
  {
   "cell_type": "markdown",
   "metadata": {},
   "source": [
    "##### The shift that produced the decrypted message is -2"
   ]
  },
  {
   "cell_type": "markdown",
   "metadata": {},
   "source": [
    "##### Step 3.2(b)"
   ]
  },
  {
   "cell_type": "code",
   "execution_count": 11,
   "metadata": {
    "scrolled": true
   },
   "outputs": [
    {
     "name": "stdout",
     "output_type": "stream",
     "text": [
      "Enter String Dxlww zaazcefytetpd lcp zqepy esp mprtyytyr zq rcple pyepcactdpd.\n",
      "13 Qkyjj mnnmprslgrgcq ypc mdrcl rfc zcegllgle md epcyr clrcpnpgqcq.\n",
      "12 Pjxii lmmloqrkfqfbp xob lcqbk qeb ybdfkkfkd lc dobxq bkqbomofpbp.\n",
      "11 Oiwhh kllknpqjepeao wna kbpaj pda xacejjejc kb cnawp ajpanlneoao.\n",
      "10 Nhvgg jkkjmopidodzn vmz jaozi ocz wzbdiidib ja bmzvo ziozmkmdnzn.\n",
      "9 Mguff ijjilnohcncym uly iznyh nby vyachhcha iz alyun yhnyljlcmym.\n",
      "8 Lftee hiihkmngbmbxl tkx hymxg max uxzbggbgz hy zkxtm xgmxkikblxl.\n",
      "7 Kesdd ghhgjlmfalawk sjw gxlwf lzw twyaffafy gx yjwsl wflwjhjakwk.\n",
      "6 Jdrcc fggfiklezkzvj riv fwkve kyv svxzeezex fw xivrk vekvigizjvj.\n",
      "5 Icqbb effehjkdyjyui qhu evjud jxu ruwyddydw ev whuqj udjuhfhyiui.\n",
      "4 Hbpaa deedgijcxixth pgt duitc iwt qtvxccxcv du vgtpi tcitgegxhth.\n",
      "3 Gaozz cddcfhibwhwsg ofs cthsb hvs psuwbbwbu ct ufsoh sbhsfdfwgsg.\n",
      "2 Fznyy bccbeghavgvrf ner bsgra gur ortvaavat bs terng ragrecevfrf.\n",
      "1 Eymxx abbadfgzufuqe mdq arfqz ftq nqsuzzuzs ar sdqmf qzfqdbdueqe.\n",
      "0 Dxlww zaazcefytetpd lcp zqepy esp mprtyytyr zq rcple pyepcactdpd.\n",
      "-1 Cwkvv yzzybdexsdsoc kbo ypdox dro loqsxxsxq yp qbokd oxdobzbscoc.\n",
      "-2 Bvjuu xyyxacdwrcrnb jan xocnw cqn knprwwrwp xo panjc nwcnayarbnb.\n",
      "-3 Auitt wxxwzbcvqbqma izm wnbmv bpm jmoqvvqvo wn ozmib mvbmzxzqama.\n",
      "-4 Zthss vwwvyabupaplz hyl vmalu aol ilnpuupun vm nylha lualywypzlz.\n",
      "-5 Ysgrr uvvuxzatozoky gxk ulzkt znk hkmottotm ul mxkgz ktzkxvxoyky.\n",
      "-6 Xrfqq tuutwyzsnynjx fwj tkyjs ymj gjlnssnsl tk lwjfy jsyjwuwnxjx.\n",
      "-7 Wqepp sttsvxyrmxmiw evi sjxir xli fikmrrmrk sj kviex irxivtvmwiw.\n",
      "-8 Vpdoo rssruwxqlwlhv duh riwhq wkh ehjlqqlqj ri juhdw hqwhusulvhv.\n",
      "-9 Uocnn qrrqtvwpkvkgu ctg qhvgp vjg dgikppkpi qh itgcv gpvgtrtkugu.\n",
      "-10 Tnbmm pqqpsuvojujft bsf pgufo uif cfhjoojoh pg hsfbu foufsqsjtft.\n",
      "-11 Small opportunities are often the beginning of great enterprises.\n",
      "-12 Rlzkk noonqstmhshdr zqd nesdm sgd adfhmmhmf ne fqdzs dmsdqoqhrdr.\n"
     ]
    }
   ],
   "source": [
    "#Taking input \n",
    "word = input(\"Enter String \")\n",
    "\n",
    "#defining the range for the shift function\n",
    "for i in range(-13,13):\n",
    "    shift = -i \n",
    "    \n",
    "    #calling the decrypt function\n",
    "    print (shift,(decrypt(word, shift)))"
   ]
  },
  {
   "cell_type": "markdown",
   "metadata": {},
   "source": [
    "##### The shift that produced the decrypted message is -11"
   ]
  },
  {
   "cell_type": "markdown",
   "metadata": {},
   "source": [
    "#### Step 3.2(c)"
   ]
  },
  {
   "cell_type": "code",
   "execution_count": 12,
   "metadata": {
    "scrolled": true
   },
   "outputs": [
    {
     "name": "stdout",
     "output_type": "stream",
     "text": [
      "Enter String Fczy cm uh ohzifxgyhn, uhx nby zolnbyl qy nlupyf nby gily nlonb qy wuh wigjlybyhx. Ni ohxylmnuhx nby nbcham nbun uly un iol xiil cm nby vymn jlyjuluncih zil ohxylmnuhxcha nbimy nbun fcy vysihx.\n",
      "13 Spml pz hu bumvsktlua, huk aol mbyaoly dl ayhcls aol tvyl aybao dl jhu jvtwyloluk. Av buklyzahuk aol aopunz aoha hyl ha vby kvvy pz aol ilza wylwhyhapvu mvy buklyzahukpun aovzl aoha spl ilfvuk.\n",
      "12 Rolk oy gt atlurjsktz, gtj znk laxznkx ck zxgbkr znk suxk zxazn ck igt iusvxknktj. Zu atjkxyzgtj znk znotmy zngz gxk gz uax juux oy znk hkyz vxkvgxgzout lux atjkxyzgtjotm znuyk zngz rok hkeutj.\n",
      "11 Qnkj nx fs zsktqirjsy, fsi ymj kzwymjw bj ywfajq ymj rtwj ywzym bj hfs htruwjmjsi. Yt zsijwxyfsi ymj ymnslx ymfy fwj fy tzw ittw nx ymj gjxy uwjufwfynts ktw zsijwxyfsinsl ymtxj ymfy qnj gjdtsi.\n",
      "10 Pmji mw er yrjsphqirx, erh xli jyvxliv ai xvezip xli qsvi xvyxl ai ger gsqtvilirh. Xs yrhivwxerh xli xlmrkw xlex evi ex syv hssv mw xli fiwx tvitevexmsr jsv yrhivwxerhmrk xlswi xlex pmi ficsrh.\n",
      "9 Olih lv dq xqirogphqw, dqg wkh ixuwkhu zh wudyho wkh pruh wuxwk zh fdq frpsuhkhqg. Wr xqghuvwdqg wkh wklqjv wkdw duh dw rxu grru lv wkh ehvw suhsdudwlrq iru xqghuvwdqglqj wkrvh wkdw olh ehbrqg.\n",
      "8 Nkhg ku cp wphqnfogpv, cpf vjg hwtvjgt yg vtcxgn vjg oqtg vtwvj yg ecp eqortgjgpf. Vq wpfgtuvcpf vjg vjkpiu vjcv ctg cv qwt fqqt ku vjg dguv rtgrctcvkqp hqt wpfgtuvcpfkpi vjqug vjcv nkg dgaqpf.\n",
      "7 Mjgf jt bo vogpmenfou, boe uif gvsuifs xf usbwfm uif npsf usvui xf dbo dpnqsfifoe. Up voefstuboe uif uijoht uibu bsf bu pvs epps jt uif cftu qsfqbsbujpo gps voefstuboejoh uiptf uibu mjf cfzpoe.\n",
      "6 Life is an unfoldment, and the further we travel the more truth we can comprehend. To understand the things that are at our door is the best preparation for understanding those that lie beyond.\n",
      "5 Khed hr zm tmenkcldms, zmc sgd etqsgdq vd sqzudk sgd lnqd sqtsg vd bzm bnloqdgdmc. Sn tmcdqrszmc sgd sghmfr sgzs zqd zs ntq cnnq hr sgd adrs oqdozqzshnm enq tmcdqrszmchmf sgnrd sgzs khd adxnmc.\n",
      "4 Jgdc gq yl sldmjbkclr, ylb rfc dsprfcp uc rpytcj rfc kmpc rpsrf uc ayl amknpcfclb. Rm slbcpqrylb rfc rfgleq rfyr ypc yr msp bmmp gq rfc zcqr npcnypyrgml dmp slbcpqrylbgle rfmqc rfyr jgc zcwmlb.\n",
      "3 Ifcb fp xk rkcliajbkq, xka qeb croqebo tb qoxsbi qeb jlob qorqe tb zxk zljmobebka. Ql rkabopqxka qeb qefkdp qexq xob xq lro allo fp qeb ybpq mobmxoxqflk clo rkabopqxkafkd qelpb qexq ifb ybvlka.\n",
      "2 Heba eo wj qjbkhziajp, wjz pda bqnpdan sa pnwrah pda ikna pnqpd sa ywj ykilnadajz. Pk qjzanopwjz pda pdejco pdwp wna wp kqn zkkn eo pda xaop lnalwnwpekj bkn qjzanopwjzejc pdkoa pdwp hea xaukjz.\n",
      "1 Gdaz dn vi piajgyhzio, viy ocz apmoczm rz omvqzg ocz hjmz ompoc rz xvi xjhkmzcziy. Oj piyzmnoviy ocz ocdibn ocvo vmz vo jpm yjjm dn ocz wzno kmzkvmvodji ajm piyzmnoviydib ocjnz ocvo gdz wztjiy.\n",
      "0 Fczy cm uh ohzifxgyhn, uhx nby zolnbyl qy nlupyf nby gily nlonb qy wuh wigjlybyhx. Ni ohxylmnuhx nby nbcham nbun uly un iol xiil cm nby vymn jlyjuluncih zil ohxylmnuhxcha nbimy nbun fcy vysihx.\n",
      "-1 Ebyx bl tg ngyhewfxgm, tgw max ynkmaxk px mktoxe max fhkx mknma px vtg vhfikxaxgw. Mh ngwxklmtgw max mabgzl matm tkx tm hnk whhk bl max uxlm ikxitktmbhg yhk ngwxklmtgwbgz mahlx matm ebx uxrhgw.\n",
      "-2 Daxw ak sf mfxgdvewfl, sfv lzw xmjlzwj ow ljsnwd lzw egjw ljmlz ow usf ugehjwzwfv. Lg mfvwjklsfv lzw lzafyk lzsl sjw sl gmj vggj ak lzw twkl hjwhsjslagf xgj mfvwjklsfvafy lzgkw lzsl daw twqgfv.\n",
      "-3 Czwv zj re lewfcudvek, reu kyv wlikyvi nv kirmvc kyv dfiv kilky nv tre tfdgivyveu. Kf leuvijkreu kyv kyzexj kyrk riv rk fli uffi zj kyv svjk givgrirkzfe wfi leuvijkreuzex kyfjv kyrk czv svpfeu.\n",
      "-4 Byvu yi qd kdvebtcudj, qdt jxu vkhjxuh mu jhqlub jxu cehu jhkjx mu sqd secfhuxudt. Je kdtuhijqdt jxu jxydwi jxqj qhu qj ekh teeh yi jxu ruij fhufqhqjyed veh kdtuhijqdtydw jxeiu jxqj byu ruoedt.\n",
      "-5 Axut xh pc jcudasbtci, pcs iwt ujgiwtg lt igpkta iwt bdgt igjiw lt rpc rdbegtwtcs. Id jcstghipcs iwt iwxcvh iwpi pgt pi djg sddg xh iwt qthi egtepgpixdc udg jcstghipcsxcv iwdht iwpi axt qtndcs.\n",
      "-6 Zwts wg ob ibtczrasbh, obr hvs tifhvsf ks hfojsz hvs acfs hfihv ks qob qcadfsvsbr. Hc ibrsfghobr hvs hvwbug hvoh ofs oh cif rccf wg hvs psgh dfsdofohwcb tcf ibrsfghobrwbu hvcgs hvoh zws psmcbr.\n",
      "-7 Yvsr vf na hasbyqzrag, naq gur shegure jr geniry gur zber gehgu jr pna pbzceruraq. Gb haqrefgnaq gur guvatf gung ner ng bhe qbbe vf gur orfg cercnengvba sbe haqrefgnaqvat gubfr gung yvr orlbaq.\n",
      "-8 Xurq ue mz gzraxpyqzf, mzp ftq rgdftqd iq fdmhqx ftq yadq fdgft iq omz oaybdqtqzp. Fa gzpqdefmzp ftq ftuzse ftmf mdq mf agd paad ue ftq nqef bdqbmdmfuaz rad gzpqdefmzpuzs ftaeq ftmf xuq nqkazp.\n",
      "-9 Wtqp td ly fyqzwoxpye, lyo esp qfcespc hp eclgpw esp xzcp ecfes hp nly nzxacpspyo. Ez fyopcdelyo esp estyrd esle lcp le zfc ozzc td esp mpde acpalcletzy qzc fyopcdelyotyr eszdp esle wtp mpjzyo.\n",
      "-10 Vspo sc kx expyvnwoxd, kxn dro pebdrob go dbkfov dro wybo dbedr go mkx mywzboroxn. Dy exnobcdkxn dro drsxqc drkd kbo kd yeb nyyb sc dro locd zbozkbkdsyx pyb exnobcdkxnsxq dryco drkd vso loiyxn.\n",
      "-11 Uron rb jw dwoxumvnwc, jwm cqn odacqna fn cajenu cqn vxan cadcq fn ljw lxvyanqnwm. Cx dwmnabcjwm cqn cqrwpb cqjc jan jc xda mxxa rb cqn knbc yanyjajcrxw oxa dwmnabcjwmrwp cqxbn cqjc urn knhxwm.\n",
      "-12 Tqnm qa iv cvnwtlumvb, ivl bpm nczbpmz em bzidmt bpm uwzm bzcbp em kiv kwuxzmpmvl. Bw cvlmzabivl bpm bpqvoa bpib izm ib wcz lwwz qa bpm jmab xzmxizibqwv nwz cvlmzabivlqvo bpwam bpib tqm jmgwvl.\n"
     ]
    }
   ],
   "source": [
    "#Taking input \n",
    "word = input(\"Enter String \")\n",
    "\n",
    "#defining the range for the shift function\n",
    "for i in range(-13,13):\n",
    "    shift = -i \n",
    "    \n",
    "    #calling the decrypt function\n",
    "    print (shift,(decrypt(word, shift)))\n",
    "    "
   ]
  },
  {
   "cell_type": "markdown",
   "metadata": {},
   "source": [
    "##### The shift that produced the decrypted message is 6"
   ]
  }
 ],
 "metadata": {
  "kernelspec": {
   "display_name": "Python 3",
   "language": "python",
   "name": "python3"
  },
  "language_info": {
   "codemirror_mode": {
    "name": "ipython",
    "version": 3
   },
   "file_extension": ".py",
   "mimetype": "text/x-python",
   "name": "python",
   "nbconvert_exporter": "python",
   "pygments_lexer": "ipython3",
   "version": "3.7.3"
  }
 },
 "nbformat": 4,
 "nbformat_minor": 2
}
